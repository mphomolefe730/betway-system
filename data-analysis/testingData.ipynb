{
 "cells": [
  {
   "cell_type": "code",
   "execution_count": 1,
   "id": "a915a59d",
   "metadata": {},
   "outputs": [],
   "source": [
    "# Imports"
   ]
  },
  {
   "cell_type": "code",
   "execution_count": 2,
   "id": "a770b17d",
   "metadata": {},
   "outputs": [],
   "source": [
    "import pandas as pd"
   ]
  },
  {
   "cell_type": "code",
   "execution_count": 3,
   "id": "81f31fb2",
   "metadata": {},
   "outputs": [],
   "source": [
    "# import csvs we'll be working with"
   ]
  },
  {
   "cell_type": "code",
   "execution_count": 4,
   "id": "20cd0063",
   "metadata": {},
   "outputs": [],
   "source": [
    "dataFile_one = pd.read_csv(\"C:\\\\Users\\\\Administrator\\\\Desktop\\\\screenshotsOfBetway\\\\results.csv\")\n",
    "dataFile_two = pd.read_csv(\"C:\\\\Users\\\\Administrator\\\\Desktop\\\\screenshotsOfBetway\\\\results_2024-07-23.csv\")\n",
    "dataFile_three = pd.read_csv(\"C:\\\\Users\\\\Administrator\\\\Desktop\\\\screenshotsOfBetway\\\\results_2024-07-28.csv\")\n",
    "dataFile_four = pd.read_csv(\"C:\\\\Users\\\\Administrator\\\\Desktop\\\\screenshotsOfBetway\\\\results_2024-07-30.csv\")"
   ]
  },
  {
   "cell_type": "code",
   "execution_count": 5,
   "id": "d37c1421",
   "metadata": {},
   "outputs": [],
   "source": [
    "# Combine everything into one thing"
   ]
  },
  {
   "cell_type": "code",
   "execution_count": 6,
   "id": "7e80a1cc",
   "metadata": {},
   "outputs": [],
   "source": [
    "working_data = pd.concat([dataFile_one,dataFile_two,dataFile_three,dataFile_four])"
   ]
  },
  {
   "cell_type": "code",
   "execution_count": 7,
   "id": "36cbc653",
   "metadata": {},
   "outputs": [
    {
     "name": "stdout",
     "output_type": "stream",
     "text": [
      "<class 'pandas.core.frame.DataFrame'>\n",
      "Index: 8046 entries, 0 to 3214\n",
      "Data columns (total 5 columns):\n",
      " #   Column      Non-Null Count  Dtype  \n",
      "---  ------      --------------  -----  \n",
      " 0   Date        8045 non-null   object \n",
      " 1   Start Time  8045 non-null   object \n",
      " 2   End Time    8045 non-null   object \n",
      " 3   Total Bets  7037 non-null   float64\n",
      " 4   Value       8021 non-null   object \n",
      "dtypes: float64(1), object(4)\n",
      "memory usage: 377.2+ KB\n"
     ]
    }
   ],
   "source": [
    "working_data.info()"
   ]
  },
  {
   "cell_type": "code",
   "execution_count": 8,
   "id": "21a1c81c",
   "metadata": {},
   "outputs": [
    {
     "name": "stdout",
     "output_type": "stream",
     "text": [
      "<class 'pandas.core.frame.DataFrame'>\n",
      "Index: 7013 entries, 0 to 3214\n",
      "Data columns (total 5 columns):\n",
      " #   Column      Non-Null Count  Dtype         \n",
      "---  ------      --------------  -----         \n",
      " 0   Date        7013 non-null   datetime64[ns]\n",
      " 1   Start Time  7013 non-null   object        \n",
      " 2   End Time    7013 non-null   object        \n",
      " 3   Total Bets  7013 non-null   float64       \n",
      " 4   Value       7013 non-null   object        \n",
      "dtypes: datetime64[ns](1), float64(1), object(3)\n",
      "memory usage: 328.7+ KB\n"
     ]
    }
   ],
   "source": [
    "working_data[\"Date\"] = pd.to_datetime(working_data[\"Date\"])\n",
    "working_data = working_data.dropna()\n",
    "working_data.info()"
   ]
  },
  {
   "cell_type": "code",
   "execution_count": 28,
   "id": "70223f92",
   "metadata": {},
   "outputs": [
    {
     "data": {
      "text/plain": [
       "3006   2024-07-30\n",
       "2953   2024-07-22\n",
       "1439   2024-07-22\n",
       "1705   2024-07-30\n",
       "869    2024-07-22\n",
       "2744   2024-07-22\n",
       "3238   2024-07-22\n",
       "1110   2024-07-30\n",
       "1705   2024-07-22\n",
       "2750   2024-07-30\n",
       "Name: Date, dtype: datetime64[ns]"
      ]
     },
     "execution_count": 28,
     "metadata": {},
     "output_type": "execute_result"
    }
   ],
   "source": [
    "working_data[\"Date\"].sample(10)"
   ]
  },
  {
   "cell_type": "code",
   "execution_count": 13,
   "id": "ba49b7a4",
   "metadata": {},
   "outputs": [
    {
     "name": "stdout",
     "output_type": "stream",
     "text": [
      "<class 'pandas.core.frame.DataFrame'>\n",
      "Index: 7013 entries, 0 to 3214\n",
      "Data columns (total 5 columns):\n",
      " #   Column      Non-Null Count  Dtype         \n",
      "---  ------      --------------  -----         \n",
      " 0   Date        7013 non-null   datetime64[ns]\n",
      " 1   Start Time  7013 non-null   object        \n",
      " 2   End Time    7013 non-null   object        \n",
      " 3   Total Bets  7013 non-null   int32         \n",
      " 4   Value       5740 non-null   object        \n",
      "dtypes: datetime64[ns](1), int32(1), object(3)\n",
      "memory usage: 301.3+ KB\n"
     ]
    }
   ],
   "source": [
    "working_data[\"Total Bets\"] = working_data[\"Total Bets\"].astype('int')\n",
    "working_data[\"Value\"] = working_data[\"Value\"].str.lstrip('.')\n",
    "working_data.info()"
   ]
  },
  {
   "cell_type": "code",
   "execution_count": 15,
   "id": "1782a15a",
   "metadata": {},
   "outputs": [
    {
     "data": {
      "text/plain": [
       "1273"
      ]
     },
     "execution_count": 15,
     "metadata": {},
     "output_type": "execute_result"
    }
   ],
   "source": [
    "working_data[\"Value\"].isnull().sum()"
   ]
  },
  {
   "cell_type": "code",
   "execution_count": 16,
   "id": "a2f7326e",
   "metadata": {},
   "outputs": [
    {
     "name": "stdout",
     "output_type": "stream",
     "text": [
      "<class 'pandas.core.frame.DataFrame'>\n",
      "Index: 5740 entries, 0 to 3214\n",
      "Data columns (total 5 columns):\n",
      " #   Column      Non-Null Count  Dtype         \n",
      "---  ------      --------------  -----         \n",
      " 0   Date        5740 non-null   datetime64[ns]\n",
      " 1   Start Time  5740 non-null   object        \n",
      " 2   End Time    5740 non-null   object        \n",
      " 3   Total Bets  5740 non-null   int32         \n",
      " 4   Value       5740 non-null   object        \n",
      "dtypes: datetime64[ns](1), int32(1), object(3)\n",
      "memory usage: 246.6+ KB\n"
     ]
    }
   ],
   "source": [
    "working_data = working_data.dropna()\n",
    "working_data.info()"
   ]
  },
  {
   "cell_type": "code",
   "execution_count": 17,
   "id": "54399a49",
   "metadata": {},
   "outputs": [
    {
     "name": "stdout",
     "output_type": "stream",
     "text": [
      "<class 'pandas.core.frame.DataFrame'>\n",
      "Index: 5738 entries, 0 to 3214\n",
      "Data columns (total 5 columns):\n",
      " #   Column      Non-Null Count  Dtype         \n",
      "---  ------      --------------  -----         \n",
      " 0   Date        5738 non-null   datetime64[ns]\n",
      " 1   Start Time  5738 non-null   object        \n",
      " 2   End Time    5738 non-null   object        \n",
      " 3   Total Bets  5738 non-null   int32         \n",
      " 4   Value       5738 non-null   object        \n",
      "dtypes: datetime64[ns](1), int32(1), object(3)\n",
      "memory usage: 246.6+ KB\n"
     ]
    }
   ],
   "source": [
    "working_data = working_data.drop([working_data[working_data[\"Value\"] == \"\"].index[0]])#dropping because one of these has a \"\" entry\n",
    "working_data.info()"
   ]
  },
  {
   "cell_type": "code",
   "execution_count": 18,
   "id": "4eb6e53f",
   "metadata": {},
   "outputs": [
    {
     "name": "stdout",
     "output_type": "stream",
     "text": [
      "<class 'pandas.core.frame.DataFrame'>\n",
      "Index: 5738 entries, 0 to 3214\n",
      "Data columns (total 5 columns):\n",
      " #   Column      Non-Null Count  Dtype         \n",
      "---  ------      --------------  -----         \n",
      " 0   Date        5738 non-null   datetime64[ns]\n",
      " 1   Start Time  5738 non-null   object        \n",
      " 2   End Time    5738 non-null   object        \n",
      " 3   Total Bets  5738 non-null   int32         \n",
      " 4   Value       5738 non-null   float64       \n",
      "dtypes: datetime64[ns](1), float64(1), int32(1), object(2)\n",
      "memory usage: 246.6+ KB\n"
     ]
    }
   ],
   "source": [
    "working_data[\"Value\"] = working_data[\"Value\"].astype('float')\n",
    "working_data.info()"
   ]
  },
  {
   "cell_type": "code",
   "execution_count": 19,
   "id": "fb5e22c1",
   "metadata": {},
   "outputs": [
    {
     "data": {
      "text/plain": [
       "26.05441240206186"
      ]
     },
     "execution_count": 19,
     "metadata": {},
     "output_type": "execute_result"
    }
   ],
   "source": [
    "dayOne = working_data[working_data[\"Date\"] == \"2024-07-22\"]\n",
    "dayOne[\"Value\"].mean()"
   ]
  },
  {
   "cell_type": "code",
   "execution_count": 29,
   "id": "69ff33da",
   "metadata": {},
   "outputs": [
    {
     "data": {
      "text/plain": [
       "2.075"
      ]
     },
     "execution_count": 29,
     "metadata": {},
     "output_type": "execute_result"
    }
   ],
   "source": [
    "dayOne = working_data[working_data[\"Date\"] == \"2024-07-22\"]\n",
    "dayOne[\"Value\"].median()"
   ]
  },
  {
   "cell_type": "code",
   "execution_count": 32,
   "id": "2dbc6527",
   "metadata": {},
   "outputs": [
    {
     "data": {
      "text/plain": [
       "0    1.0\n",
       "Name: Value, dtype: float64"
      ]
     },
     "execution_count": 32,
     "metadata": {},
     "output_type": "execute_result"
    }
   ],
   "source": [
    "dayOne = working_data[working_data[\"Date\"] == \"2024-07-22\"]\n",
    "dayOne[\"Value\"].mode()"
   ]
  },
  {
   "cell_type": "code",
   "execution_count": 20,
   "id": "a034eb92",
   "metadata": {},
   "outputs": [
    {
     "data": {
      "text/plain": [
       "nan"
      ]
     },
     "execution_count": 20,
     "metadata": {},
     "output_type": "execute_result"
    }
   ],
   "source": [
    "dayOne = working_data[working_data[\"Date\"] == \"2024-07-28\"]\n",
    "dayOne[\"Value\"].mean()"
   ]
  },
  {
   "cell_type": "code",
   "execution_count": 30,
   "id": "dd2dbe3c",
   "metadata": {},
   "outputs": [
    {
     "data": {
      "text/plain": [
       "nan"
      ]
     },
     "execution_count": 30,
     "metadata": {},
     "output_type": "execute_result"
    }
   ],
   "source": [
    "dayOne = working_data[working_data[\"Date\"] == \"2024-07-28\"]\n",
    "dayOne[\"Value\"].median()"
   ]
  },
  {
   "cell_type": "code",
   "execution_count": 21,
   "id": "7cd9551d",
   "metadata": {},
   "outputs": [
    {
     "data": {
      "text/plain": [
       "20.1349948019802"
      ]
     },
     "execution_count": 21,
     "metadata": {},
     "output_type": "execute_result"
    }
   ],
   "source": [
    "dayOne = working_data[working_data[\"Date\"] == \"2024-07-30\"]\n",
    "dayOne[\"Value\"].mean()"
   ]
  },
  {
   "cell_type": "code",
   "execution_count": 31,
   "id": "b10b8c96",
   "metadata": {},
   "outputs": [
    {
     "data": {
      "text/plain": [
       "2.07"
      ]
     },
     "execution_count": 31,
     "metadata": {},
     "output_type": "execute_result"
    }
   ],
   "source": [
    "dayOne = working_data[working_data[\"Date\"] == \"2024-07-30\"]\n",
    "dayOne[\"Value\"].median()"
   ]
  },
  {
   "cell_type": "code",
   "execution_count": 35,
   "id": "0f6d61a4",
   "metadata": {},
   "outputs": [
    {
     "data": {
      "text/plain": [
       "0    1.0\n",
       "Name: Value, dtype: float64"
      ]
     },
     "execution_count": 35,
     "metadata": {},
     "output_type": "execute_result"
    }
   ],
   "source": [
    "dayOne = working_data[working_data[\"Date\"] == \"2024-07-30\"]\n",
    "dayOne[\"Value\"].mode()"
   ]
  },
  {
   "cell_type": "code",
   "execution_count": 37,
   "id": "15b62649",
   "metadata": {},
   "outputs": [
    {
     "data": {
      "text/html": [
       "<div>\n",
       "<style scoped>\n",
       "    .dataframe tbody tr th:only-of-type {\n",
       "        vertical-align: middle;\n",
       "    }\n",
       "\n",
       "    .dataframe tbody tr th {\n",
       "        vertical-align: top;\n",
       "    }\n",
       "\n",
       "    .dataframe thead th {\n",
       "        text-align: right;\n",
       "    }\n",
       "</style>\n",
       "<table border=\"1\" class=\"dataframe\">\n",
       "  <thead>\n",
       "    <tr style=\"text-align: right;\">\n",
       "      <th></th>\n",
       "      <th>Date</th>\n",
       "      <th>Start Time</th>\n",
       "      <th>End Time</th>\n",
       "      <th>Total Bets</th>\n",
       "      <th>Value</th>\n",
       "      <th>Outcome</th>\n",
       "    </tr>\n",
       "  </thead>\n",
       "  <tbody>\n",
       "    <tr>\n",
       "      <th>141</th>\n",
       "      <td>2024-07-22</td>\n",
       "      <td>00:58:26.013855</td>\n",
       "      <td>00:59:07.896133</td>\n",
       "      <td>1350</td>\n",
       "      <td>19.91</td>\n",
       "      <td>1</td>\n",
       "    </tr>\n",
       "    <tr>\n",
       "      <th>2909</th>\n",
       "      <td>2024-07-22</td>\n",
       "      <td>20:30:14.976895</td>\n",
       "      <td>20:30:28.872803</td>\n",
       "      <td>3333</td>\n",
       "      <td>1.71</td>\n",
       "      <td>0</td>\n",
       "    </tr>\n",
       "    <tr>\n",
       "      <th>1712</th>\n",
       "      <td>2024-07-22</td>\n",
       "      <td>11:25:25.603494</td>\n",
       "      <td>11:25:37.194324</td>\n",
       "      <td>3173</td>\n",
       "      <td>1.48</td>\n",
       "      <td>0</td>\n",
       "    </tr>\n",
       "    <tr>\n",
       "      <th>3306</th>\n",
       "      <td>2024-07-22</td>\n",
       "      <td>23:27:46.851806</td>\n",
       "      <td>23:28:43.608524</td>\n",
       "      <td>3535</td>\n",
       "      <td>54.75</td>\n",
       "      <td>1</td>\n",
       "    </tr>\n",
       "    <tr>\n",
       "      <th>2356</th>\n",
       "      <td>2024-07-30</td>\n",
       "      <td>16:57:50.824448</td>\n",
       "      <td>16:58:13.165187</td>\n",
       "      <td>3547</td>\n",
       "      <td>2.75</td>\n",
       "      <td>0</td>\n",
       "    </tr>\n",
       "    <tr>\n",
       "      <th>122</th>\n",
       "      <td>2024-07-22</td>\n",
       "      <td>00:51:21.920633</td>\n",
       "      <td>00:52:05.156284</td>\n",
       "      <td>1353</td>\n",
       "      <td>21.74</td>\n",
       "      <td>1</td>\n",
       "    </tr>\n",
       "    <tr>\n",
       "      <th>1373</th>\n",
       "      <td>2024-07-30</td>\n",
       "      <td>09:14:58.563747</td>\n",
       "      <td>09:15:26.535850</td>\n",
       "      <td>5020</td>\n",
       "      <td>5.24</td>\n",
       "      <td>1</td>\n",
       "    </tr>\n",
       "    <tr>\n",
       "      <th>1609</th>\n",
       "      <td>2024-07-22</td>\n",
       "      <td>10:40:30.012710</td>\n",
       "      <td>10:40:37.407176</td>\n",
       "      <td>2502</td>\n",
       "      <td>1.02</td>\n",
       "      <td>0</td>\n",
       "    </tr>\n",
       "    <tr>\n",
       "      <th>346</th>\n",
       "      <td>2024-07-30</td>\n",
       "      <td>02:23:44.543271</td>\n",
       "      <td>02:23:50.120015</td>\n",
       "      <td>2557</td>\n",
       "      <td>1.09</td>\n",
       "      <td>0</td>\n",
       "    </tr>\n",
       "    <tr>\n",
       "      <th>3208</th>\n",
       "      <td>2024-07-22</td>\n",
       "      <td>22:47:10.436888</td>\n",
       "      <td>22:47:24.839529</td>\n",
       "      <td>3907</td>\n",
       "      <td>1.73</td>\n",
       "      <td>0</td>\n",
       "    </tr>\n",
       "  </tbody>\n",
       "</table>\n",
       "</div>"
      ],
      "text/plain": [
       "           Date       Start Time         End Time  Total Bets  Value  Outcome\n",
       "141  2024-07-22  00:58:26.013855  00:59:07.896133        1350  19.91        1\n",
       "2909 2024-07-22  20:30:14.976895  20:30:28.872803        3333   1.71        0\n",
       "1712 2024-07-22  11:25:25.603494  11:25:37.194324        3173   1.48        0\n",
       "3306 2024-07-22  23:27:46.851806  23:28:43.608524        3535  54.75        1\n",
       "2356 2024-07-30  16:57:50.824448  16:58:13.165187        3547   2.75        0\n",
       "122  2024-07-22  00:51:21.920633  00:52:05.156284        1353  21.74        1\n",
       "1373 2024-07-30  09:14:58.563747  09:15:26.535850        5020   5.24        1\n",
       "1609 2024-07-22  10:40:30.012710  10:40:37.407176        2502   1.02        0\n",
       "346  2024-07-30  02:23:44.543271  02:23:50.120015        2557   1.09        0\n",
       "3208 2024-07-22  22:47:10.436888  22:47:24.839529        3907   1.73        0"
      ]
     },
     "execution_count": 37,
     "metadata": {},
     "output_type": "execute_result"
    }
   ],
   "source": [
    "working_data[\"Outcome\"] = working_data[\"Value\"].apply(lambda x: 1 if x > 4 else 0)\n",
    "working_data.sample(10)"
   ]
  },
  {
   "cell_type": "code",
   "execution_count": 38,
   "id": "8cb30595",
   "metadata": {},
   "outputs": [
    {
     "data": {
      "text/plain": [
       "Date          1699\n",
       "Start Time    1699\n",
       "End Time      1699\n",
       "Total Bets    1699\n",
       "Value         1699\n",
       "Outcome       1699\n",
       "dtype: int64"
      ]
     },
     "execution_count": 38,
     "metadata": {},
     "output_type": "execute_result"
    }
   ],
   "source": [
    "working_data[working_data[\"Outcome\"]==1].count()\n",
    "# all the true where value is above 5"
   ]
  },
  {
   "cell_type": "code",
   "execution_count": 39,
   "id": "1617e087",
   "metadata": {},
   "outputs": [
    {
     "data": {
      "text/plain": [
       "Date          4039\n",
       "Start Time    4039\n",
       "End Time      4039\n",
       "Total Bets    4039\n",
       "Value         4039\n",
       "Outcome       4039\n",
       "dtype: int64"
      ]
     },
     "execution_count": 39,
     "metadata": {},
     "output_type": "execute_result"
    }
   ],
   "source": [
    "working_data[working_data[\"Outcome\"]==0].count()\n",
    "# all the true where value is below 5"
   ]
  },
  {
   "cell_type": "code",
   "execution_count": 40,
   "id": "b01d92aa",
   "metadata": {},
   "outputs": [
    {
     "data": {
      "text/plain": [
       "42.06486754147066"
      ]
     },
     "execution_count": 40,
     "metadata": {},
     "output_type": "execute_result"
    }
   ],
   "source": [
    "1699/4039*100"
   ]
  },
  {
   "cell_type": "code",
   "execution_count": null,
   "id": "caea7c7f",
   "metadata": {},
   "outputs": [],
   "source": [
    "working_data.head(10)"
   ]
  },
  {
   "cell_type": "code",
   "execution_count": 41,
   "id": "f4153001",
   "metadata": {},
   "outputs": [
    {
     "data": {
      "text/html": [
       "<div>\n",
       "<style scoped>\n",
       "    .dataframe tbody tr th:only-of-type {\n",
       "        vertical-align: middle;\n",
       "    }\n",
       "\n",
       "    .dataframe tbody tr th {\n",
       "        vertical-align: top;\n",
       "    }\n",
       "\n",
       "    .dataframe thead th {\n",
       "        text-align: right;\n",
       "    }\n",
       "</style>\n",
       "<table border=\"1\" class=\"dataframe\">\n",
       "  <thead>\n",
       "    <tr style=\"text-align: right;\">\n",
       "      <th></th>\n",
       "      <th>win value</th>\n",
       "      <th>gap</th>\n",
       "    </tr>\n",
       "  </thead>\n",
       "  <tbody>\n",
       "    <tr>\n",
       "      <th>0</th>\n",
       "      <td>5.41</td>\n",
       "      <td>0</td>\n",
       "    </tr>\n",
       "    <tr>\n",
       "      <th>1</th>\n",
       "      <td>7.31</td>\n",
       "      <td>4</td>\n",
       "    </tr>\n",
       "    <tr>\n",
       "      <th>2</th>\n",
       "      <td>4.44</td>\n",
       "      <td>2</td>\n",
       "    </tr>\n",
       "    <tr>\n",
       "      <th>3</th>\n",
       "      <td>8.03</td>\n",
       "      <td>10</td>\n",
       "    </tr>\n",
       "    <tr>\n",
       "      <th>4</th>\n",
       "      <td>4.45</td>\n",
       "      <td>2</td>\n",
       "    </tr>\n",
       "    <tr>\n",
       "      <th>5</th>\n",
       "      <td>4.19</td>\n",
       "      <td>7</td>\n",
       "    </tr>\n",
       "    <tr>\n",
       "      <th>6</th>\n",
       "      <td>10.42</td>\n",
       "      <td>6</td>\n",
       "    </tr>\n",
       "    <tr>\n",
       "      <th>7</th>\n",
       "      <td>49.71</td>\n",
       "      <td>5</td>\n",
       "    </tr>\n",
       "    <tr>\n",
       "      <th>8</th>\n",
       "      <td>4.26</td>\n",
       "      <td>2</td>\n",
       "    </tr>\n",
       "    <tr>\n",
       "      <th>9</th>\n",
       "      <td>7.24</td>\n",
       "      <td>2</td>\n",
       "    </tr>\n",
       "  </tbody>\n",
       "</table>\n",
       "</div>"
      ],
      "text/plain": [
       "   win value gap\n",
       "0       5.41   0\n",
       "1       7.31   4\n",
       "2       4.44   2\n",
       "3       8.03  10\n",
       "4       4.45   2\n",
       "5       4.19   7\n",
       "6      10.42   6\n",
       "7      49.71   5\n",
       "8       4.26   2\n",
       "9       7.24   2"
      ]
     },
     "execution_count": 41,
     "metadata": {},
     "output_type": "execute_result"
    }
   ],
   "source": [
    "gapCount=0\n",
    "gapsBetweenWins = pd.DataFrame(columns=[\"win value\",\"gap\"])\n",
    "\n",
    "for index, x in working_data.iterrows():\n",
    "    #if the current one is true and the next one is false, reset gap and start all over\n",
    "    if x[\"Outcome\"] == 1:\n",
    "        newRow = pd.DataFrame({\"win value\": x[\"Value\"],\"gap\":gapCount},index=[len(gapsBetweenWins)])\n",
    "        gapsBetweenWins = pd.concat([gapsBetweenWins,newRow])\n",
    "        gapCount = 0\n",
    "    gapCount+=1\n",
    "        \n",
    "gapsBetweenWins.head(10)"
   ]
  },
  {
   "cell_type": "code",
   "execution_count": 42,
   "id": "48bfe74e",
   "metadata": {},
   "outputs": [
    {
     "data": {
      "text/plain": [
       "0    16.0\n",
       "Name: win value, dtype: float64"
      ]
     },
     "execution_count": 42,
     "metadata": {},
     "output_type": "execute_result"
    }
   ],
   "source": [
    "gapsBetweenWins[\"win value\"].mode()"
   ]
  },
  {
   "cell_type": "code",
   "execution_count": 43,
   "id": "5a66a964",
   "metadata": {},
   "outputs": [
    {
     "data": {
      "text/plain": [
       "73.75912301353738"
      ]
     },
     "execution_count": 43,
     "metadata": {},
     "output_type": "execute_result"
    }
   ],
   "source": [
    "gapsBetweenWins[\"win value\"].mean()"
   ]
  },
  {
   "cell_type": "code",
   "execution_count": null,
   "id": "ab09101b",
   "metadata": {},
   "outputs": [],
   "source": []
  },
  {
   "cell_type": "code",
   "execution_count": null,
   "id": "3c731a1d",
   "metadata": {},
   "outputs": [],
   "source": [
    "# working_data[\"Start Time\"] = str(working_data['Start Time']).split(\".\")[0].replace(\" \",\"\")[1:]\n",
    "# working_data[\"Start Time\"] = pd.to_datetime(working_data['Start Time']).dt.time\n",
    "# working_data.info()"
   ]
  },
  {
   "cell_type": "code",
   "execution_count": null,
   "id": "a730e47d",
   "metadata": {},
   "outputs": [],
   "source": [
    "#working_data[[\"Total Bets\",\"Value\"]].plot(xlabel=\"Value\",ylabel=\"Total Bets\",kind=\"line\",title=\"Graph representing total bets over time\")"
   ]
  },
  {
   "cell_type": "code",
   "execution_count": null,
   "id": "2dfc8f4d",
   "metadata": {},
   "outputs": [],
   "source": [
    "#working_data[\"Value\"].sample(10)"
   ]
  },
  {
   "cell_type": "code",
   "execution_count": null,
   "id": "be0fbf59",
   "metadata": {},
   "outputs": [],
   "source": [
    "working_data"
   ]
  },
  {
   "cell_type": "code",
   "execution_count": null,
   "id": "89712f48",
   "metadata": {},
   "outputs": [],
   "source": []
  }
 ],
 "metadata": {
  "kernelspec": {
   "display_name": "Python 3 (ipykernel)",
   "language": "python",
   "name": "python3"
  },
  "language_info": {
   "codemirror_mode": {
    "name": "ipython",
    "version": 3
   },
   "file_extension": ".py",
   "mimetype": "text/x-python",
   "name": "python",
   "nbconvert_exporter": "python",
   "pygments_lexer": "ipython3",
   "version": "3.11.5"
  }
 },
 "nbformat": 4,
 "nbformat_minor": 5
}
